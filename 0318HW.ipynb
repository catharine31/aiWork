{
 "cells": [
  {
   "cell_type": "code",
   "execution_count": 1,
   "metadata": {},
   "outputs": [],
   "source": [
    "%matplotlib inline\n",
    "\n",
    "import numpy as np\n",
    "import matplotlib.pyplot as plt"
   ]
  },
  {
   "cell_type": "markdown",
   "metadata": {},
   "source": [
    "### 1. 讀入 Fashion MNSIT 數據集"
   ]
  },
  {
   "cell_type": "code",
   "execution_count": 2,
   "metadata": {},
   "outputs": [],
   "source": [
    "from tensorflow.keras.datasets import fashion_mnist"
   ]
  },
  {
   "cell_type": "code",
   "execution_count": 3,
   "metadata": {},
   "outputs": [],
   "source": [
    "(x_train, y_train), (x_test, y_test) = fashion_mnist.load_data()"
   ]
  },
  {
   "cell_type": "markdown",
   "metadata": {},
   "source": [
    "### 2. 欣賞數據集內容"
   ]
  },
  {
   "cell_type": "code",
   "execution_count": 4,
   "metadata": {},
   "outputs": [],
   "source": [
    "class_names = ['T-shirt/top', 'Trouser', 'Pullover', 'Dress', 'Coat',\n",
    "                       'Sandal', 'Shirt', 'Sneaker', 'Bag', 'Ankle boot']"
   ]
  },
  {
   "cell_type": "code",
   "execution_count": 5,
   "metadata": {},
   "outputs": [
    {
     "data": {
      "text/plain": [
       "60000"
      ]
     },
     "execution_count": 5,
     "metadata": {},
     "output_type": "execute_result"
    }
   ],
   "source": [
    "len(x_train)"
   ]
  },
  {
   "cell_type": "code",
   "execution_count": 6,
   "metadata": {},
   "outputs": [
    {
     "data": {
      "text/plain": [
       "10000"
      ]
     },
     "execution_count": 6,
     "metadata": {},
     "output_type": "execute_result"
    }
   ],
   "source": [
    "len(x_test)"
   ]
  },
  {
   "cell_type": "markdown",
   "metadata": {},
   "source": [
    "### 3. 資料整理"
   ]
  },
  {
   "cell_type": "code",
   "execution_count": 7,
   "metadata": {},
   "outputs": [],
   "source": [
    "x_train = x_train / 255\n",
    "x_test = x_test / 255"
   ]
  },
  {
   "cell_type": "code",
   "execution_count": 8,
   "metadata": {},
   "outputs": [],
   "source": [
    "x_train = x_train.reshape(60000, 784)\n",
    "x_test = x_test.reshape(10000, 784)"
   ]
  },
  {
   "cell_type": "markdown",
   "metadata": {},
   "source": [
    "#### 做 one hot encoding"
   ]
  },
  {
   "cell_type": "code",
   "execution_count": 9,
   "metadata": {},
   "outputs": [],
   "source": [
    "from tensorflow.keras.utils import to_categorical"
   ]
  },
  {
   "cell_type": "code",
   "execution_count": 10,
   "metadata": {},
   "outputs": [],
   "source": [
    "y_train = to_categorical(y_train, 10) "
   ]
  },
  {
   "cell_type": "code",
   "execution_count": 11,
   "metadata": {},
   "outputs": [],
   "source": [
    "y_test = to_categorical(y_train, 10) "
   ]
  },
  {
   "cell_type": "markdown",
   "metadata": {},
   "source": [
    "# 做神經網路"
   ]
  },
  {
   "cell_type": "code",
   "execution_count": 12,
   "metadata": {},
   "outputs": [],
   "source": [
    "from tensorflow.keras.models import Sequential\n",
    "from tensorflow.keras.layers import Dense\n",
    "from tensorflow.keras.optimizers import SGD # 選擇最好的學習方式"
   ]
  },
  {
   "cell_type": "code",
   "execution_count": 13,
   "metadata": {},
   "outputs": [],
   "source": [
    "# 開一台函數學習機\n",
    "model = Sequential()"
   ]
  },
  {
   "cell_type": "code",
   "execution_count": 14,
   "metadata": {},
   "outputs": [],
   "source": [
    "model.add(Dense(88, input_dim = 784, activation='relu'))"
   ]
  },
  {
   "cell_type": "code",
   "execution_count": 15,
   "metadata": {},
   "outputs": [],
   "source": [
    "model.add(Dense(88, activation='relu'))"
   ]
  },
  {
   "cell_type": "code",
   "execution_count": 16,
   "metadata": {},
   "outputs": [],
   "source": [
    "model.add(Dense(10, activation='softmax'))"
   ]
  },
  {
   "cell_type": "markdown",
   "metadata": {},
   "source": [
    "# 組裝神經網路"
   ]
  },
  {
   "cell_type": "code",
   "execution_count": 17,
   "metadata": {},
   "outputs": [],
   "source": [
    "model.compile(loss='mse', optimizer=SGD(lr=0.087), metrics=['accuracy'])"
   ]
  },
  {
   "cell_type": "code",
   "execution_count": 18,
   "metadata": {},
   "outputs": [
    {
     "name": "stdout",
     "output_type": "stream",
     "text": [
      "Model: \"sequential\"\n",
      "_________________________________________________________________\n",
      "Layer (type)                 Output Shape              Param #   \n",
      "=================================================================\n",
      "dense (Dense)                (None, 88)                69080     \n",
      "_________________________________________________________________\n",
      "dense_1 (Dense)              (None, 88)                7832      \n",
      "_________________________________________________________________\n",
      "dense_2 (Dense)              (None, 10)                890       \n",
      "=================================================================\n",
      "Total params: 77,802\n",
      "Trainable params: 77,802\n",
      "Non-trainable params: 0\n",
      "_________________________________________________________________\n"
     ]
    }
   ],
   "source": [
    "model.summary()"
   ]
  },
  {
   "cell_type": "code",
   "execution_count": 19,
   "metadata": {},
   "outputs": [
    {
     "name": "stdout",
     "output_type": "stream",
     "text": [
      "Train on 60000 samples\n",
      "Epoch 1/20\n",
      "60000/60000 [==============================] - 1s 15us/sample - loss: 0.0730 - accuracy: 0.4563\n",
      "Epoch 2/20\n",
      "60000/60000 [==============================] - 1s 11us/sample - loss: 0.0469 - accuracy: 0.6651\n",
      "Epoch 3/20\n",
      "60000/60000 [==============================] - 1s 13us/sample - loss: 0.0372 - accuracy: 0.7549\n",
      "Epoch 4/20\n",
      "60000/60000 [==============================] - 1s 11us/sample - loss: 0.0326 - accuracy: 0.7861\n",
      "Epoch 5/20\n",
      "60000/60000 [==============================] - 1s 12us/sample - loss: 0.0299 - accuracy: 0.8027\n",
      "Epoch 6/20\n",
      "60000/60000 [==============================] - 1s 12us/sample - loss: 0.0282 - accuracy: 0.8125\n",
      "Epoch 7/20\n",
      "60000/60000 [==============================] - 1s 12us/sample - loss: 0.0270 - accuracy: 0.8198\n",
      "Epoch 8/20\n",
      "60000/60000 [==============================] - 1s 13us/sample - loss: 0.0260 - accuracy: 0.8257\n",
      "Epoch 9/20\n",
      "60000/60000 [==============================] - 1s 12us/sample - loss: 0.0253 - accuracy: 0.8296\n",
      "Epoch 10/20\n",
      "60000/60000 [==============================] - 1s 12us/sample - loss: 0.0248 - accuracy: 0.8332\n",
      "Epoch 11/20\n",
      "60000/60000 [==============================] - 1s 12us/sample - loss: 0.0242 - accuracy: 0.8366\n",
      "Epoch 12/20\n",
      "60000/60000 [==============================] - 1s 12us/sample - loss: 0.0238 - accuracy: 0.8391\n",
      "Epoch 13/20\n",
      "60000/60000 [==============================] - 1s 14us/sample - loss: 0.0234 - accuracy: 0.8424\n",
      "Epoch 14/20\n",
      "60000/60000 [==============================] - 1s 13us/sample - loss: 0.0231 - accuracy: 0.8443\n",
      "Epoch 15/20\n",
      "60000/60000 [==============================] - 1s 13us/sample - loss: 0.0227 - accuracy: 0.8465\n",
      "Epoch 16/20\n",
      "60000/60000 [==============================] - 1s 13us/sample - loss: 0.0225 - accuracy: 0.8486\n",
      "Epoch 17/20\n",
      "60000/60000 [==============================] - 1s 13us/sample - loss: 0.0222 - accuracy: 0.8498\n",
      "Epoch 18/20\n",
      "60000/60000 [==============================] - 1s 13us/sample - loss: 0.0220 - accuracy: 0.8506\n",
      "Epoch 19/20\n",
      "60000/60000 [==============================] - 1s 13us/sample - loss: 0.0218 - accuracy: 0.8530\n",
      "Epoch 20/20\n",
      "60000/60000 [==============================] - 1s 12us/sample - loss: 0.0216 - accuracy: 0.8544\n"
     ]
    },
    {
     "data": {
      "text/plain": [
       "<tensorflow.python.keras.callbacks.History at 0x16169f310>"
      ]
     },
     "execution_count": 19,
     "metadata": {},
     "output_type": "execute_result"
    }
   ],
   "source": [
    "model.fit(x_train, y_train, batch_size=100, epochs=20)"
   ]
  },
  {
   "cell_type": "code",
   "execution_count": 20,
   "metadata": {},
   "outputs": [],
   "source": [
    "result = model.predict_classes(x_test)"
   ]
  },
  {
   "cell_type": "code",
   "execution_count": 21,
   "metadata": {},
   "outputs": [
    {
     "data": {
      "image/png": "[encoded data removed]",
      "text/plain": [
       "<Figure size 432x288 with 3 Axes>"
      ]
     },
     "metadata": {},
     "output_type": "display_data"
    }
   ],
   "source": [
    "n = [2020, 3, 18]\n",
    "for i in range(len(n)):\n",
    "    ax = plt.subplot(151+i)\n",
    "    ax.set_xticks([])\n",
    "    ax.set_yticks([])\n",
    "    ax.set_title(class_names[result[n[i]]], fontsize=10)\n",
    "    plt.imshow(x_test[n[i]].reshape(28, 28), cmap='Greys')  "
   ]
  },
  {
   "cell_type": "markdown",
   "metadata": {},
   "source": [
    "#### 作業調整\n",
    "1. loss function 改為 'mean_absolute_error'\n",
    "1.  batch_size=80, epochs=25\n",
    "1. → 準確率上升 0.8947"
   ]
  },
  {
   "cell_type": "code",
   "execution_count": 24,
   "metadata": {},
   "outputs": [
    {
     "name": "stdout",
     "output_type": "stream",
     "text": [
      "Model: \"sequential\"\n",
      "_________________________________________________________________\n",
      "Layer (type)                 Output Shape              Param #   \n",
      "=================================================================\n",
      "dense (Dense)                (None, 88)                69080     \n",
      "_________________________________________________________________\n",
      "dense_1 (Dense)              (None, 88)                7832      \n",
      "_________________________________________________________________\n",
      "dense_2 (Dense)              (None, 10)                890       \n",
      "=================================================================\n",
      "Total params: 77,802\n",
      "Trainable params: 77,802\n",
      "Non-trainable params: 0\n",
      "_________________________________________________________________\n",
      "Train on 60000 samples\n",
      "Epoch 1/25\n",
      "60000/60000 [==============================] - 1s 17us/sample - loss: 0.0242 - accuracy: 0.8858\n",
      "Epoch 2/25\n",
      "60000/60000 [==============================] - 1s 14us/sample - loss: 0.0242 - accuracy: 0.8861\n",
      "Epoch 3/25\n",
      "60000/60000 [==============================] - 1s 14us/sample - loss: 0.0240 - accuracy: 0.8875\n",
      "Epoch 4/25\n",
      "60000/60000 [==============================] - 1s 15us/sample - loss: 0.0239 - accuracy: 0.8877\n",
      "Epoch 5/25\n",
      "60000/60000 [==============================] - 1s 15us/sample - loss: 0.0238 - accuracy: 0.8881\n",
      "Epoch 6/25\n",
      "60000/60000 [==============================] - 1s 15us/sample - loss: 0.0238 - accuracy: 0.8878\n",
      "Epoch 7/25\n",
      "60000/60000 [==============================] - 1s 14us/sample - loss: 0.0237 - accuracy: 0.8882\n",
      "Epoch 8/25\n",
      "60000/60000 [==============================] - 1s 14us/sample - loss: 0.0236 - accuracy: 0.8887\n",
      "Epoch 9/25\n",
      "60000/60000 [==============================] - 1s 14us/sample - loss: 0.0235 - accuracy: 0.8894\n",
      "Epoch 10/25\n",
      "60000/60000 [==============================] - 1s 14us/sample - loss: 0.0235 - accuracy: 0.8893\n",
      "Epoch 11/25\n",
      "60000/60000 [==============================] - 1s 14us/sample - loss: 0.0234 - accuracy: 0.8896\n",
      "Epoch 12/25\n",
      "60000/60000 [==============================] - 1s 14us/sample - loss: 0.0234 - accuracy: 0.8902\n",
      "Epoch 13/25\n",
      "60000/60000 [==============================] - 1s 14us/sample - loss: 0.0233 - accuracy: 0.8899\n",
      "Epoch 14/25\n",
      "60000/60000 [==============================] - 1s 14us/sample - loss: 0.0232 - accuracy: 0.8906\n",
      "Epoch 15/25\n",
      "60000/60000 [==============================] - 1s 14us/sample - loss: 0.0231 - accuracy: 0.8915\n",
      "Epoch 16/25\n",
      "60000/60000 [==============================] - 1s 14us/sample - loss: 0.0230 - accuracy: 0.8920\n",
      "Epoch 17/25\n",
      "60000/60000 [==============================] - 1s 14us/sample - loss: 0.0230 - accuracy: 0.8919\n",
      "Epoch 18/25\n",
      "60000/60000 [==============================] - 1s 14us/sample - loss: 0.0229 - accuracy: 0.8920\n",
      "Epoch 19/25\n",
      "60000/60000 [==============================] - 1s 15us/sample - loss: 0.0229 - accuracy: 0.8921\n",
      "Epoch 20/25\n",
      "60000/60000 [==============================] - 1s 14us/sample - loss: 0.0227 - accuracy: 0.8929\n",
      "Epoch 21/25\n",
      "60000/60000 [==============================] - 1s 14us/sample - loss: 0.0227 - accuracy: 0.8934\n",
      "Epoch 22/25\n",
      "60000/60000 [==============================] - 1s 15us/sample - loss: 0.0226 - accuracy: 0.8935\n",
      "Epoch 23/25\n",
      "60000/60000 [==============================] - 1s 15us/sample - loss: 0.0226 - accuracy: 0.8935\n",
      "Epoch 24/25\n",
      "60000/60000 [==============================] - 1s 14us/sample - loss: 0.0225 - accuracy: 0.8938\n",
      "Epoch 25/25\n",
      "60000/60000 [==============================] - 1s 14us/sample - loss: 0.0224 - accuracy: 0.8947\n"
     ]
    },
    {
     "data": {
      "text/plain": [
       "<tensorflow.python.keras.callbacks.History at 0x16181d590>"
      ]
     },
     "execution_count": 24,
     "metadata": {},
     "output_type": "execute_result"
    }
   ],
   "source": [
    "model.compile(loss='mean_absolute_error', optimizer=SGD(lr=0.087), metrics=['accuracy'])\n",
    "model.summary()\n",
    "model.fit(x_train, y_train, batch_size=80, epochs=25)"
   ]
  },
  {
   "cell_type": "markdown",
   "metadata": {},
   "source": [
    "1. optimizer=SGD(lr=0.095)\n",
    "1. batch_size=70, epochs=23\n",
    "1. → 準確率沒有太大變化 0.8998"
   ]
  },
  {
   "cell_type": "code",
   "execution_count": 25,
   "metadata": {},
   "outputs": [
    {
     "name": "stdout",
     "output_type": "stream",
     "text": [
      "Model: \"sequential\"\n",
      "_________________________________________________________________\n",
      "Layer (type)                 Output Shape              Param #   \n",
      "=================================================================\n",
      "dense (Dense)                (None, 88)                69080     \n",
      "_________________________________________________________________\n",
      "dense_1 (Dense)              (None, 88)                7832      \n",
      "_________________________________________________________________\n",
      "dense_2 (Dense)              (None, 10)                890       \n",
      "=================================================================\n",
      "Total params: 77,802\n",
      "Trainable params: 77,802\n",
      "Non-trainable params: 0\n",
      "_________________________________________________________________\n",
      "Train on 60000 samples\n",
      "Epoch 1/23\n",
      "60000/60000 [==============================] - 1s 20us/sample - loss: 0.0226 - accuracy: 0.8932\n",
      "Epoch 2/23\n",
      "60000/60000 [==============================] - 1s 17us/sample - loss: 0.0225 - accuracy: 0.8938\n",
      "Epoch 3/23\n",
      "60000/60000 [==============================] - 1s 16us/sample - loss: 0.0224 - accuracy: 0.8938\n",
      "Epoch 4/23\n",
      "60000/60000 [==============================] - 1s 16us/sample - loss: 0.0224 - accuracy: 0.8938\n",
      "Epoch 5/23\n",
      "60000/60000 [==============================] - 1s 16us/sample - loss: 0.0223 - accuracy: 0.8948\n",
      "Epoch 6/23\n",
      "60000/60000 [==============================] - 1s 16us/sample - loss: 0.0222 - accuracy: 0.8947\n",
      "Epoch 7/23\n",
      "60000/60000 [==============================] - 1s 16us/sample - loss: 0.0222 - accuracy: 0.8951\n",
      "Epoch 8/23\n",
      "60000/60000 [==============================] - 1s 16us/sample - loss: 0.0221 - accuracy: 0.8955\n",
      "Epoch 9/23\n",
      "60000/60000 [==============================] - 1s 17us/sample - loss: 0.0220 - accuracy: 0.8962\n",
      "Epoch 10/23\n",
      "60000/60000 [==============================] - 1s 16us/sample - loss: 0.0219 - accuracy: 0.8964\n",
      "Epoch 11/23\n",
      "60000/60000 [==============================] - 1s 16us/sample - loss: 0.0218 - accuracy: 0.8970\n",
      "Epoch 12/23\n",
      "60000/60000 [==============================] - 1s 16us/sample - loss: 0.0218 - accuracy: 0.8967\n",
      "Epoch 13/23\n",
      "60000/60000 [==============================] - 1s 16us/sample - loss: 0.0216 - accuracy: 0.8981\n",
      "Epoch 14/23\n",
      "60000/60000 [==============================] - 1s 16us/sample - loss: 0.0217 - accuracy: 0.8971\n",
      "Epoch 15/23\n",
      "60000/60000 [==============================] - 1s 16us/sample - loss: 0.0216 - accuracy: 0.8981\n",
      "Epoch 16/23\n",
      "60000/60000 [==============================] - 1s 16us/sample - loss: 0.0216 - accuracy: 0.8980\n",
      "Epoch 17/23\n",
      "60000/60000 [==============================] - 1s 16us/sample - loss: 0.0215 - accuracy: 0.8978\n",
      "Epoch 18/23\n",
      "60000/60000 [==============================] - 1s 16us/sample - loss: 0.0215 - accuracy: 0.8981\n",
      "Epoch 19/23\n",
      "60000/60000 [==============================] - 1s 16us/sample - loss: 0.0214 - accuracy: 0.8991\n",
      "Epoch 20/23\n",
      "60000/60000 [==============================] - 1s 16us/sample - loss: 0.0212 - accuracy: 0.8995\n",
      "Epoch 21/23\n",
      "60000/60000 [==============================] - 1s 16us/sample - loss: 0.0212 - accuracy: 0.8997\n",
      "Epoch 22/23\n",
      "60000/60000 [==============================] - 1s 16us/sample - loss: 0.0211 - accuracy: 0.8997\n",
      "Epoch 23/23\n",
      "60000/60000 [==============================] - 1s 16us/sample - loss: 0.0211 - accuracy: 0.8998\n"
     ]
    },
    {
     "data": {
      "text/plain": [
       "<tensorflow.python.keras.callbacks.History at 0x146811f50>"
      ]
     },
     "execution_count": 25,
     "metadata": {},
     "output_type": "execute_result"
    }
   ],
   "source": [
    "model.compile(loss='mean_absolute_error', optimizer=SGD(lr=0.095), metrics=['accuracy'])\n",
    "model.summary()\n",
    "model.fit(x_train, y_train, batch_size=70, epochs=23)"
   ]
  },
  {
   "cell_type": "code",
   "execution_count": null,
   "metadata": {},
   "outputs": [],
   "source": []
  }
 ],
 "metadata": {
  "kernelspec": {
   "display_name": "Selenium",
   "language": "python",
   "name": "myenv"
  },
  "language_info": {
   "codemirror_mode": {
    "name": "ipython",
    "version": 3
   },
   "file_extension": ".py",
   "mimetype": "text/x-python",
   "name": "python",
   "nbconvert_exporter": "python",
   "pygments_lexer": "ipython3",
   "version": "3.7.6"
  }
 },
 "nbformat": 4,
 "nbformat_minor": 2
}
